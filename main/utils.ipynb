{
 "cells": [
  {
   "cell_type": "markdown",
   "metadata": {},
   "source": [
    "## Utils"
   ]
  },
  {
   "cell_type": "markdown",
   "metadata": {},
   "source": [
    "Conté el codi per descarregar i carregar el model GPT-2 dels repositoris oficials d'OpenAI. A posteriori carregarem els seus pesos, tokenitzador i hiperparàmetre."
   ]
  },
  {
   "cell_type": "code",
   "execution_count": 1,
   "metadata": {},
   "outputs": [],
   "source": [
    "import json\n",
    "import os\n",
    "import re\n",
    "\n",
    "import numpy as np\n",
    "import requests\n",
    "import tensorflow as tf\n",
    "from tqdm import tqdm\n",
    "\n",
    "#Importem el encoder que tenim dins de la carpeta de Modules. (Encoder BPE d'OpenAI GPT-2.)\n",
    "from modules.encoder import get_encoder"
   ]
  },
  {
   "cell_type": "markdown",
   "metadata": {},
   "source": [
    "### download_gpt2_files\n",
    "\n",
    "Funció per descarregar els fitxers de GPT2."
   ]
  },
  {
   "cell_type": "code",
   "execution_count": 2,
   "metadata": {},
   "outputs": [],
   "source": [
    "def download_gpt2_files(model_size, model_dir):\n",
    "    model_full_path = os.path.join(model_dir, model_size)\n",
    "    if os.path.exists(model_full_path):\n",
    "        return\n",
    "    os.makedirs(model_full_path, exist_ok=True)\n",
    "    #Depenent de quina mida de model volguem fer servir tenim per escollir entre [\"124M\", \"355M\", \"774M\", \"1558M\"]\n",
    "    assert model_size in [\"124M\", \"355M\", \"774M\", \"1558M\"]\n",
    "    url = \"https://openaipublic.blob.core.windows.net/gpt-2/models\"\n",
    "    for filename in [\n",
    "        \"checkpoint\",\n",
    "        \"encoder.json\",\n",
    "        \"hparams.json\",\n",
    "        \"model.ckpt.data-00000-of-00001\",\n",
    "        \"model.ckpt.index\",\n",
    "        \"model.ckpt.meta\",\n",
    "        \"vocab.bpe\",\n",
    "    ]:\n",
    "        r = requests.get(f\"{url}/{model_size}/{filename}\", stream=True)\n",
    "        r.raise_for_status()\n",
    "\n",
    "        with open(os.path.join(model_full_path, filename), \"wb\") as f:\n",
    "            file_size = int(r.headers[\"content-length\"])\n",
    "            chunk_size = 1000\n",
    "            with tqdm(\n",
    "                ncols=100,\n",
    "                desc=\"Fetching \" + filename,\n",
    "                total=file_size,\n",
    "                unit_scale=True,\n",
    "                unit=\"b\",\n",
    "            ) as pbar:\n",
    "                # 1k for chunk_size, since Ethernet packet size is around 1500 bytes\n",
    "                for chunk in r.iter_content(chunk_size=chunk_size):\n",
    "                    f.write(chunk)\n",
    "                    pbar.update(chunk_size)"
   ]
  },
  {
   "cell_type": "code",
   "execution_count": null,
   "metadata": {},
   "outputs": [],
   "source": [
    "#Ens baixem tots els models en les respectives carpetes\n",
    "model_sizes = [\"124M\", \"355M\", \"774M\", \"1558M\"]\n",
    "for model_size in model_sizes:\n",
    "    download_gpt2_files(model_size=model_size, model_dir=\"models\")"
   ]
  },
  {
   "cell_type": "code",
   "execution_count": 3,
   "metadata": {},
   "outputs": [],
   "source": [
    "#Amb l'assert ens assegurem que la mida que li passem de model està dins de la llista que definim. \n",
    "#Aquesta mida de models és la que ens proporciona OpenAI si no controlem això no ens podrem baixar els fitxers ja que la URL serà incorrecte.\n",
    "#Si posem un model size que no està dins de la llista que definim obtindrem \"AssertionError\"\n",
    "#Definim la variable del directori del model.\n",
    "model_dir= \"models\"\n",
    "model_size=\"124M\"\n",
    "model_full_path = os.path.join(model_dir, model_size)"
   ]
  },
  {
   "cell_type": "code",
   "execution_count": 13,
   "metadata": {},
   "outputs": [],
   "source": [
    "assert model_size in model_sizes"
   ]
  },
  {
   "cell_type": "code",
   "execution_count": 4,
   "metadata": {},
   "outputs": [],
   "source": [
    "#Tenim els noms de fitxers del Model per baixar-nos emmagatzemats en una variable. Són els que anirem a atacar en la URL.\n",
    "filenames = [\"checkpoint\",\n",
    "        \"encoder.json\",\n",
    "        \"hparams.json\",\n",
    "        \"model.ckpt.data-00000-of-00001\",\n",
    "        \"model.ckpt.index\",\n",
    "        \"model.ckpt.meta\",\n",
    "        \"vocab.bpe\"]"
   ]
  },
  {
   "cell_type": "code",
   "execution_count": 5,
   "metadata": {},
   "outputs": [],
   "source": [
    "if os.path.exists(model_full_path):\n",
    "        pass\n",
    "os.makedirs(model_full_path, exist_ok=True)"
   ]
  },
  {
   "cell_type": "code",
   "execution_count": null,
   "metadata": {},
   "outputs": [],
   "source": [
    "#Creo la carpeta del Directori aqui manualment perquè lo següent funcioni\n",
    "#Ens definim la URL del Azure Blob Storage Públic d'OpenAI.   \n",
    "url = \"https://openaipublic.blob.core.windows.net/gpt-2/models\"\n",
    " \n",
    "#Per cada fitxer del model a descarregar \n",
    "for filename in filenames:\n",
    "    #Atacarem la URL del Blob Públic amb el recurs en qüestió gràcies a la llibreria requests fent una petició HTTP.\n",
    "    #Stream=True --> Si no es fa servir aquest paràmetre al fer la petició del request tot el contingut de la resposta es descarregarà inmediatament a la memòria abans de processar-lo. Això pot provocar un s elevat de memòria i causar problemes de rendiment si no es disposa de suficient memòria per manejar la càrrega completa del fitxer.\n",
    "    #Al fer servir el Stream permet processar el contingut per parts (chunks), reduïnt l'ús de memòria millorant el maneig de grans volums de dades\n",
    "    r = requests.get(f\"{url}/{model_size}/{filename}\", stream=True)\n",
    "    #Comprovem que la petició s'ha fet correctament. Si no fa res la resposta és exitosa (codi 200) de lo contrari llença una excepcióo (per ex 400 o 500)\n",
    "    r.raise_for_status() # --> No retorna res si està OK però és un objecte del tipus: <bound method Response.raise_for_status of <Response [200]>>\n",
    "    # Creem carpeta, serà \"models\", i l'arxiu que ens descarreguem (estem creant la ruta completa). Obrirem en mode escritura binaria ja que els arxius que ens baixarem son binaris (com els pesos dels models)\n",
    "    with open(os.path.join(model_full_path, filename), \"wb\") as f:\n",
    "            #Obtindrem la mida total de l'arxiu a descarregar gràcies als encapçalats de la resposta http. Ens servirà per mostrar amb el TQDM el progrés de la descàrrega.\n",
    "            file_size = int(r.headers[\"content-length\"])\n",
    "            #Definim la mida de cada chunk o bloc que llegirem i ens baixarem de l'arxiu en cada iteració, s'estableix a 1000 bytes.\n",
    "            #Si la mida del fitxer és de 10GB i definim el chunksize en 1000, dividim la resposta en 10 parts.\n",
    "            chunk_size = 1000\n",
    "            #Amb el TQDM ens permet mostrar el progrés de la descàrrega .\n",
    "            with tqdm(\n",
    "                ncols=100, #La amplada de la barra de progrés que es mostrarà en el Output.\n",
    "                desc=\"Fetching \" + filename, #Descripció en la barra de progrés.\n",
    "                total=file_size, #El número total d'iteracions esperades, será el mateix que la mida del fitxer.\n",
    "                unit_scale=True, #Més format de la barra progressiva.\n",
    "                unit=\"b\", #La mida de la barra de progrés es escala amb la mida de l'arxiu que volem baixar.\n",
    "            ) as pbar:\n",
    "                #Gràcies al strem=true del requests permetem que el contingut es descarregui en parts en lloc de carregar tot el contingut de cop en la memòria.\n",
    "                #Llavors el r.iter_content genera parts de contingut descarregat depenent de la mida especificada pel chunk_size\n",
    "                for chunk in r.iter_content(chunk_size=chunk_size):\n",
    "                    #Escribim cada part de contingut del chunk al fitxer.\n",
    "                    f.write(chunk)\n",
    "                    #Actualitzem la barra de progrés amb la mida del chunk que hem descarregat.\n",
    "                    pbar.update(chunk_size)\n",
    "                    \n"
   ]
  },
  {
   "cell_type": "code",
   "execution_count": 11,
   "metadata": {},
   "outputs": [],
   "source": [
    "\n",
    "\n"
   ]
  },
  {
   "cell_type": "code",
   "execution_count": null,
   "metadata": {},
   "outputs": [],
   "source": []
  },
  {
   "cell_type": "code",
   "execution_count": null,
   "metadata": {},
   "outputs": [],
   "source": []
  },
  {
   "cell_type": "code",
   "execution_count": null,
   "metadata": {},
   "outputs": [],
   "source": []
  }
 ],
 "metadata": {
  "kernelspec": {
   "display_name": "Python 3",
   "language": "python",
   "name": "python3"
  },
  "language_info": {
   "codemirror_mode": {
    "name": "ipython",
    "version": 3
   },
   "file_extension": ".py",
   "mimetype": "text/x-python",
   "name": "python",
   "nbconvert_exporter": "python",
   "pygments_lexer": "ipython3",
   "version": "3.9.19"
  }
 },
 "nbformat": 4,
 "nbformat_minor": 2
}
