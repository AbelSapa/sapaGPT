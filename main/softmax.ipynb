{
 "cells": [
  {
   "cell_type": "markdown",
   "metadata": {},
   "source": [
    "### Funció SoftMax\n",
    "$$\\text{softmax}(x)_i = \\frac{e^{x_i}}{\\sum_j e^{x_j}}$$\n"
   ]
  },
  {
   "cell_type": "markdown",
   "metadata": {},
   "source": [
    "Abans de res hem de saber què són els \"Logits\".\n",
    "\n",
    "El logit és el nivell d'activació que té cada una de les neurones en la capa de sortida, són dades numèriques.\n",
    "\n",
    "Però aquestes dades numèriques d'alguna forma les necessitem normalitzar i passar-lo entre una escala entre 0 i 1 (passem de un conjunt de números reals entre $$-\\infty a \\infty$$ a números entre 0 i 1) que vindrian a ser `Probabilitats` que ben dit se li diuen \"Scores\". Tots aquests conjunt de valors sumats entre ells donarà 1.\n",
    "\n",
    "S'aplica sobre l'últim eix d'entrada (axis = -1).\n",
    "\n",
    "El veurem també més endavant perquè el fem servir per l'enmascarament.\n",
    "\n",
    "\n",
    "\n",
    "\n",
    "\n",
    "\n",
    "\n"
   ]
  },
  {
   "cell_type": "code",
   "execution_count": 16,
   "metadata": {},
   "outputs": [],
   "source": [
    "#Funció Softmax\n",
    "import numpy as np\n",
    "def softmax(x):\n",
    "    exp_x = np.exp(x - np.max(x, axis=-1, keepdims=True))\n",
    "    return exp_x / np.sum(exp_x, axis=-1, keepdims=True)"
   ]
  },
  {
   "cell_type": "code",
   "execution_count": 17,
   "metadata": {},
   "outputs": [
    {
     "data": {
      "text/plain": [
       "array([3.12479234e-04, 8.49406625e-04, 5.72325682e-06, 9.31487470e-01,\n",
       "       4.63760303e-02, 1.14954686e-04, 2.84944179e-07, 1.55574250e-05,\n",
       "       2.08380937e-02])"
      ]
     },
     "execution_count": 17,
     "metadata": {},
     "output_type": "execute_result"
    }
   ],
   "source": [
    "#Ens normalitza els números entre 0 i 1.\n",
    "softmax([-2,-1,-6, 6, 3, -3,-9,-5,2.2])"
   ]
  },
  {
   "cell_type": "code",
   "execution_count": null,
   "metadata": {},
   "outputs": [],
   "source": []
  },
  {
   "cell_type": "code",
   "execution_count": null,
   "metadata": {},
   "outputs": [],
   "source": []
  },
  {
   "cell_type": "markdown",
   "metadata": {},
   "source": []
  }
 ],
 "metadata": {
  "kernelspec": {
   "display_name": "Python 3",
   "language": "python",
   "name": "python3"
  },
  "language_info": {
   "codemirror_mode": {
    "name": "ipython",
    "version": 3
   },
   "file_extension": ".py",
   "mimetype": "text/x-python",
   "name": "python",
   "nbconvert_exporter": "python",
   "pygments_lexer": "ipython3",
   "version": "3.9.19"
  }
 },
 "nbformat": 4,
 "nbformat_minor": 2
}
